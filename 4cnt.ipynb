{
 "cells": [
  {
   "cell_type": "code",
   "execution_count": 20,
   "id": "4c0e4024",
   "metadata": {},
   "outputs": [
    {
     "name": "stdout",
     "output_type": "stream",
     "text": [
      "10000.0\n"
     ]
    }
   ],
   "source": [
    "import os\n",
    "import csv\n",
    "import functools\n",
    "root='./data/4/0808(1000組)/'\n",
    "all=os.listdir(root)\n",
    "n=4\n",
    "tot=0\n",
    "pol=[]\n",
    "for i in all:\n",
    "    if(i=='text.txt'):\n",
    "        continue\n",
    "    with open(root+i,'r') as csv1:\n",
    "        rd=csv1.readlines()\n",
    "        tot+=len(rd)/2\n",
    "        pol+=[[i.replace('.csv',''),len(rd)/2]]\n",
    "print(tot)"
   ]
  },
  {
   "cell_type": "code",
   "execution_count": 21,
   "id": "a9f15026",
   "metadata": {},
   "outputs": [],
   "source": [
    "cnt=[[0for i in range(4)]for j in range(4)]\n",
    "for i in pol:\n",
    "    pl=[]\n",
    "    for j in (i[0][1:-1]).split(','):\n",
    "        pl+=[int(j)]\n",
    "    for j in range(n):\n",
    "        cnt[j][pl[j]]+=i[1]\n"
   ]
  },
  {
   "cell_type": "code",
   "execution_count": 22,
   "id": "a81bb520",
   "metadata": {},
   "outputs": [
    {
     "name": "stdout",
     "output_type": "stream",
     "text": [
      "5.03  32.38  30.88  31.71  \n",
      "31.02  5.01  32.97  31.0  \n",
      "29.94  31.93  4.95  33.18  \n",
      "32.58  30.4  31.95  5.07  \n"
     ]
    }
   ],
   "source": [
    "for i in cnt:\n",
    "    for j in i:\n",
    "        print(round(j*100/tot,2),end='  ')\n",
    "    print()"
   ]
  },
  {
   "cell_type": "code",
   "execution_count": 23,
   "id": "4bc9fb11",
   "metadata": {},
   "outputs": [
    {
     "name": "stdout",
     "output_type": "stream",
     "text": [
      "24\n"
     ]
    }
   ],
   "source": [
    "def per(cur=[]):\n",
    "    n=4\n",
    "    if(len(cur)==n):\n",
    "        return [cur]\n",
    "    ret=[]\n",
    "    for i in range(n):\n",
    "        if(not i in cur):\n",
    "            ret+=per(cur+[i])\n",
    "    return ret\n",
    "p=per()\n",
    "print(len(p))"
   ]
  },
  {
   "cell_type": "code",
   "execution_count": 24,
   "id": "09dcd0f5",
   "metadata": {},
   "outputs": [],
   "source": [
    "cnt=dict()\n",
    "for f in all:\n",
    "    with open(root+f,'r') as csv1:\n",
    "        rd=csv.reader(csv1)\n",
    "        for i in rd:\n",
    "            if(i==[]):\n",
    "                continue\n",
    "            s=[]\n",
    "            for j in i:\n",
    "                s+=[float(j)]\n",
    "            ss=sorted(s)\n",
    "            cur=[]\n",
    "            for j in p:\n",
    "                if(s==[ss[j[0]],ss[j[1]],ss[j[2]],ss[j[3]]]):\n",
    "                    cur=j\n",
    "                    break\n",
    "           #cur[i]=j  ==>  unsorted[i]<->sorted[j]\n",
    "            p0=[]\n",
    "            for j in f.replace('.csv','')[1:-1].split(','):\n",
    "                p0+=[int(j)]\n",
    "            p1=[-1 for j in range(n)]\n",
    "            for j in range(n):\n",
    "                p1[cur[j]]=cur[p0[j]]\n",
    "            if(cnt.get(str(p1))==None):\n",
    "                cnt[str(p1)]=0\n",
    "            cnt[str(p1)]+=1"
   ]
  },
  {
   "cell_type": "code",
   "execution_count": 18,
   "id": "d2e18796",
   "metadata": {
    "scrolled": true
   },
   "outputs": [],
   "source": [
    "def cmp(a,b):\n",
    "    if(a[1]<b[1]):\n",
    "        return 1\n",
    "    return -1\n",
    "c1=[]\n",
    "for i in cnt.keys():\n",
    "    c1+=[[i,cnt[i]]]\n",
    "c1.sort(key=functools.cmp_to_key(cmp))\n",
    "for i in c1:\n",
    "    #print(i[0],':',round(i[1]*100/tot,3))\n",
    "    pass"
   ]
  },
  {
   "cell_type": "code",
   "execution_count": 25,
   "id": "958e9cb9",
   "metadata": {},
   "outputs": [],
   "source": [
    "W=dict()\n",
    "def w(pi,p,pol):#pi=要計算勝率的參賽者，p為一陣列，p[i]=參賽者Pi的命中率，pol為策略集，pol[i]為Pi的策略，若pol[i]=i則代表該參賽者策略為放棄\n",
    "  n=len(p)\n",
    "\n",
    "  if(W.get(str(p))!=None and W[str(p)].get(str(pol))!=None and W[str(p)][str(pol)].get(pi)!=None):\n",
    "    return W[str(p)][str(pol)][pi]\n",
    "\n",
    "\n",
    "  if(n==1):#若場上剩下參賽者一人，則該參賽者勝利\n",
    "    return 1\n",
    "  if(n==3):\n",
    "    return w3(pi,p,pol)\n",
    "  #檢查是否所有人策略都為放棄\n",
    "  ok=False\n",
    "  for i in range(n):\n",
    "    if(pol[i]!=i):\n",
    "      ok=True\n",
    "      break\n",
    "  if(not ok):\n",
    "    return 0\n",
    "\n",
    "\n",
    "  r=1#紀錄「到目前為止，前一名參賽者都沒有射中目標的機率」\n",
    "  ret=0#記錄勝率\n",
    "  per=[i for i in range(n)]\n",
    "  \n",
    "  for j in range(n):#一般式中的sigma\n",
    "    if(pol[j]==j):#若該參賽者放棄射擊則直接跳過\n",
    "      continue\n",
    "    if(pol[j]!=pi):#若該參賽者策略不為「射擊Pi」，則Pi勝率可累加上退化後賽局中的勝率\n",
    "      p2=p[j+1:]+p[:j+1]#將命中率陣列以退化後的射擊順序重排\n",
    "      \n",
    "      #刪除遭射中的參賽者\n",
    "      d=(pol[j]+n-j-1)%n\n",
    "      del p2[d]\n",
    "\n",
    "      #Pi在退化後賽局的位置\n",
    "      pi2=(pi+n-j-1)%n\n",
    "\n",
    "      if(pi2>d):\n",
    "        pi2-=1\n",
    "\n",
    "      pl2=ABL(p2)#尋找退化後賽局的平衡策略\n",
    "      ret+=r*p[j]*w(pi2,p2,pl2)#將退化後賽局的勝率累加\n",
    "\n",
    "    r*=(1-p[j])\n",
    "  ret/=(1-r)\n",
    "  if(W.get(str(p))==None):\n",
    "    W[str(p)]=dict()\n",
    "  if(W[str(p)].get(str(pol))==None):\n",
    "    W[str(p)][str(pol)]=dict()\n",
    "  W[str(p)][str(pol)][pi]=ret\n",
    "  return ret\n",
    "def w3(pi,p,pol):#s是命中率陣列，此函數可求出三人命中率分別為(s[0],s[1],s[2])，策略集為pol下Pi的勝率\n",
    "  if(pol[0]==0 and pol[1]==1 and pol[2]==2):\n",
    "    return 0\n",
    "  ret=0\n",
    "  r=1\n",
    "  for i in range(3):\n",
    "    i1=(i)\n",
    "    if(pol[i1]==i1):\n",
    "      continue\n",
    "    if(i1==pi):\n",
    "      k=3-pi-pol[pi]\n",
    "      ret+=r*p[pi]*(1-p[k])*(p[pi])/(1-(1-p[pi])*(1-p[k]))\n",
    "    elif (pol[i1]!=pi):\n",
    "      ret+=r*(p[i1])*(p[pi])/(1-(1-p[pi])*(1-p[i1]))\n",
    "    r*=(1-p[i1])\n",
    "  ret/=(1-r)\n",
    "  return ret\n",
    "def ABL(s,cur=[]):\n",
    "  pi=len(cur)\n",
    "  if(len(cur)==len(s)):\n",
    "    return cur\n",
    "  abl=[]\n",
    "  for pli in range(len(s)):\n",
    "    abl2=ABL(s,cur+[pli])\n",
    "    if (abl==[]):\n",
    "      abl=abl2\n",
    "    elif (w(pi,s,abl2)>w(pi,s,abl)):\n",
    "      abl=abl2\n",
    "  return abl"
   ]
  },
  {
   "cell_type": "code",
   "execution_count": 41,
   "id": "2d64d711",
   "metadata": {},
   "outputs": [
    {
     "name": "stdout",
     "output_type": "stream",
     "text": [
      "0.21 0.35 0.17 0.27 \n",
      " 101.92400002479553\n"
     ]
    }
   ],
   "source": [
    "import time\n",
    "import random\n",
    "cnt_w=[0 for i in range(n)]\n",
    "pl=[3,0,3,2]\n",
    "t0=1000\n",
    "t=time.time()\n",
    "for i0 in range(t0):\n",
    "    s=[random.random() for i in range(n)]\n",
    "    s.sort()\n",
    "    for p in per():#p[i]=j ==> unsorted[j]<->sorted[i]\n",
    "        s1=[-1 for i in range(n)]\n",
    "        for i in range(4):\n",
    "            s1[p[i]]=s[i]\n",
    "        p1=[-1 for i in range(n)]\n",
    "        for i in range(4):\n",
    "            p1[p[i]]=p[pl[i]]\n",
    "        #print(s)\n",
    "        #print(s1)\n",
    "        #print(p1)\n",
    "        #print()\n",
    "        wp=[w(pi,s1,p1) for pi in range(n)]\n",
    "        for i in range(4):\n",
    "            cnt_w[i]+=wp[p[i]]\n",
    "for i in cnt_w:\n",
    "    print(round(i/(24*t0),2),end=' ')\n",
    "print('\\n',time.time()-t)"
   ]
  }
 ],
 "metadata": {
  "kernelspec": {
   "display_name": "Python 3",
   "language": "python",
   "name": "python3"
  },
  "language_info": {
   "codemirror_mode": {
    "name": "ipython",
    "version": 3
   },
   "file_extension": ".py",
   "mimetype": "text/x-python",
   "name": "python",
   "nbconvert_exporter": "python",
   "pygments_lexer": "ipython3",
   "version": "3.8.8"
  }
 },
 "nbformat": 4,
 "nbformat_minor": 5
}
